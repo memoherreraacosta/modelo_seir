{
 "cells": [
  {
   "cell_type": "markdown",
   "metadata": {},
   "source": [
    "# Modelos epidemiológicos, caso SEIR \n",
    "## Authors\n",
    "- [Guillermo](https://github.com/memoherreraacosta)\n",
    "- [Daniela](https://github.com/Guemez)\n"
   ]
  },
  {
   "cell_type": "markdown",
   "metadata": {},
   "source": [
    "## Time-Dependent Variables\n",
    "* Here’s an updated list of the variables we currently use:\n",
    "- N: total population\n",
    "- S(t): number of people susceptible on day t\n",
    "- E(t): number of people exposed on day t\n",
    "- I(t): number of people infected on day t\n",
    "- R(t): number of people recovered on day t\n",
    "- D(t): number of people dead on day t\n",
    "\n",
    "- β: expected amount of people an infected person infects per day\n",
    "- D: number of days an infected person has and can spread the disease\n",
    "- γ: the proportion of infected recovering per day (γ = 1/D)\n",
    "- R₀: the total number of people an infected person infects (R₀ = β / γ)\n",
    "- δ: length of incubation period\n",
    "- α: fatality rate\n",
    "- ρ: rate at which people die (= 1/days from infected until death)"
   ]
  },
  {
   "cell_type": "code",
   "execution_count": 5,
   "metadata": {},
   "outputs": [],
   "source": [
    "# Imports\n",
    "from scipy.integrate import odeint\n",
    "import numpy as np\n",
    "import matplotlib.pyplot as plt\n",
    "%matplotlib inline"
   ]
  },
  {
   "cell_type": "code",
   "execution_count": 6,
   "metadata": {},
   "outputs": [],
   "source": [
    "def deriv(y, t, N, beta, gamma, delta, alpha, rho):\n",
    "    S, E, I, R, D = y\n",
    "    dSdt = -beta * S * I / N\n",
    "    dEdt = beta * S * I / N - delta * E\n",
    "    dIdt = delta * E - (1 - alpha) * gamma * I - alpha * rho * I\n",
    "    dRdt = (1 - alpha) * gamma * I\n",
    "    dDdt = alpha * rho * I\n",
    "    return dSdt, dEdt, dIdt, dRdt, dDdt"
   ]
  },
  {
   "cell_type": "code",
   "execution_count": 7,
   "metadata": {},
   "outputs": [],
   "source": [
    "N = 6220145\n",
    "# total population ZMG\n",
    "# Source: https://www.jalisco.gob.mx/es/jalisco/guadalajara\n",
    "# In 2015, total population was 4'434,878 people\n",
    "# The growth rate has been creasing by 7%\n",
    "# Following that rate, by 2020 the total population is\n",
    "# ZMG population by 2020: 6'220,145\n",
    "\n",
    "D = 10\n",
    "# number of days an infected person has and can spread the disease\n",
    "# Source: World Health Organization\n",
    "# https://www.who.int/docs/default-source/coronaviruse/situation-reports/20200402-sitrep-73-covid-19.pdf?sfvrsn=5ae25bc7_4#:~:text=The%20incubation%20period%20for%20COVID,occur%20before%20symptom%20onset.\n",
    "# \"The incubation period for COVID-19, which is the time between exposure to the virus (becoming infected) and\n",
    "# symptom onset, is on average 5-6 days, however can be up to 14 days.\"\n",
    "#\n",
    "# Taking as consideration of time when a person realize that has the virus\n",
    "# and put his/her self in quarentine, we've decided the average between\n",
    "# average and worst case 6 and 14 days.\n",
    "\n",
    "\n",
    "gamma = 1.0 / D\n",
    "# proportion of infected recovering per day\n",
    "\n",
    "n = 6\n",
    "delta = 1.0 / n \n",
    "# incubation period of n days\n",
    "# taking as average of incubation time, we've decided 6 days\n",
    "\n",
    "R_0 = 1.15\n",
    "# total number of people an infected person infects\n",
    "# based on Study of \n",
    "#    - SoCieDat\n",
    "#    - ZapopanLab\n",
    "#    - Data Science Monterrey\n",
    "#    - Datlab Community\n",
    "# Taking the average they give between .8 and 1.5 of range.\n",
    "# Source: https://datoscovid.mx/\n",
    "\n",
    "beta = R_0 * gamma\n",
    "# expected amount of people an infected person infects per day\n",
    "\n",
    "casos_zmg = {\n",
    "    \"confirmados\": 1238,\n",
    "    \"sospechosos\": 462,\n",
    "    \"descartados\": 9037,\n",
    "    \"defunciones\": 116\n",
    "}\n",
    "casos_total = sum(casos_zmg.values())\n",
    "alpha = casos_zmg[\"defunciones\"]/casos_total\n",
    "# death rate\n",
    "# Source: https://ssj.jalisco.gob.mx/prensa/noticia/9037\n",
    "# Date: May 25 (latest)\n",
    "\n",
    "days = 11\n",
    "rho = 1/days\n",
    "# days from infection until death\n",
    "# source: South Corea editorial Dong-A Ilbo's research\n",
    " \n",
    "## initial conditions: one exposed ##\n",
    "S0, E0, I0, R0, D0 = N-1, 1, 0, 0, 0  "
   ]
  },
  {
   "cell_type": "code",
   "execution_count": 8,
   "metadata": {},
   "outputs": [],
   "source": [
    "t = np.linspace(0, 100, 100) # Grid of time points (in days)\n",
    "y0 = S0, E0, I0, R0, D0 # Initial conditions vector\n",
    "\n",
    "# Integrate the SIR equations over the time grid, t.\n",
    "ret = odeint(deriv, y0, t, args=(N, beta, gamma, delta, alpha, rho))\n",
    "S, E, I, R, D = ret.T"
   ]
  },
  {
   "cell_type": "code",
   "execution_count": 9,
   "metadata": {},
   "outputs": [
    {
     "data": {
      "image/png": "[encoded data removed]",
      "text/plain": [
       "<Figure size 720x288 with 1 Axes>"
      ]
     },
     "metadata": {
      "needs_background": "light"
     },
     "output_type": "display_data"
    }
   ],
   "source": [
    "def plotseird(t, S, E, I, R, D):\n",
    "  f, ax = plt.subplots(1,1,figsize=(10,4))\n",
    "  ax.plot(t, S, 'b', alpha=0.7, linewidth=2, label='Susceptible')\n",
    "  ax.plot(t, E, 'y', alpha=0.7, linewidth=2, label='Exposed')\n",
    "  ax.plot(t, I, 'r', alpha=0.7, linewidth=2, label='Infected')\n",
    "  ax.plot(t, R, 'g', alpha=0.7, linewidth=2, label='Recovered')\n",
    "  ax.plot(t, D, 'k', alpha=0.7, linewidth=2, label='Dead')\n",
    "  ax.plot(t, S+E+I+R+D, 'c--', alpha=0.7, linewidth=2, label='Total')\n",
    "\n",
    "  ax.set_xlabel('Time (days)')\n",
    "\n",
    "  ax.yaxis.set_tick_params(length=0)\n",
    "  ax.xaxis.set_tick_params(length=0)\n",
    "  ax.grid(b=True, which='major', c='w', lw=2, ls='-')\n",
    "  legend = ax.legend()\n",
    "  legend.get_frame().set_alpha(0.5)\n",
    "\n",
    "  for spine in ('top', 'right', 'bottom', 'left'):\n",
    "      ax.spines[spine].set_visible(False)\n",
    "    \n",
    "  plt.show();\n",
    "\n",
    "plotseird(t, S, E, I, R, D)"
   ]
  },
  {
   "cell_type": "code",
   "execution_count": null,
   "metadata": {},
   "outputs": [],
   "source": []
  }
 ],
 "metadata": {
  "kernelspec": {
   "display_name": "Python 3",
   "language": "python",
   "name": "python3"
  },
  "language_info": {
   "codemirror_mode": {
    "name": "ipython",
    "version": 3
   },
   "file_extension": ".py",
   "mimetype": "text/x-python",
   "name": "python",
   "nbconvert_exporter": "python",
   "pygments_lexer": "ipython3",
   "version": "3.7.1"
  }
 },
 "nbformat": 4,
 "nbformat_minor": 2
}
