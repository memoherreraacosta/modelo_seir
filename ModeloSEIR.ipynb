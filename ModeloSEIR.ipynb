{
 "cells": [
  {
   "cell_type": "markdown",
   "metadata": {},
   "source": [
    "# Modelos epidemiológicos, caso SEIR \n",
    "## Authors\n",
    "- [Guillermo](https://github.com/memoherreraacosta)\n",
    "- [Daniela](https://github.com/Guemez)\n"
   ]
  },
  {
   "cell_type": "markdown",
   "metadata": {},
   "source": [
    "## Time-Dependent Variables\n",
    "* Here’s an updated list of the variables we currently use:\n",
    "- N: total population\n",
    "- S(t): number of people susceptible on day t\n",
    "- E(t): number of people exposed on day t\n",
    "- I(t): number of people infected on day t\n",
    "- R(t): number of people recovered on day t\n",
    "- D(t): number of people dead on day t\n",
    "\n",
    "- β: expected amount of people an infected person infects per day\n",
    "- D: number of days an infected person has and can spread the disease\n",
    "- γ: the proportion of infected recovering per day (γ = 1/D)\n",
    "- R₀: the total number of people an infected person infects (R₀ = β / γ)\n",
    "- δ: length of incubation period\n",
    "- α: fatality rate\n",
    "- ρ: rate at which people die (= 1/days from infected until death)"
   ]
  },
  {
   "cell_type": "code",
   "execution_count": 128,
   "metadata": {},
   "outputs": [],
   "source": [
    "# Imports\n",
    "from scipy.integrate import odeint\n",
    "import numpy as np\n",
    "import matplotlib.pyplot as plt\n",
    "%matplotlib inline"
   ]
  },
  {
   "cell_type": "code",
   "execution_count": 178,
   "metadata": {},
   "outputs": [],
   "source": [
    "N = 6220145\n",
    "# total population ZMG\n",
    "# Source: https://www.jalisco.gob.mx/es/jalisco/guadalajara\n",
    "# In 2015, total population was 4'434,878 people\n",
    "# The growth rate has been creasing by 7%\n",
    "# Following that rate, by 2020 the total population is\n",
    "# ZMG population by 2020: 6'220,145\n",
    "\n",
    "D = 10\n",
    "# number of days an infected person has and can spread the disease\n",
    "# Source: World Health Organization\n",
    "# https://www.who.int/docs/default-source/coronaviruse/situation-reports/20200402-sitrep-73-covid-19.pdf?sfvrsn=5ae25bc7_4#:~:text=The%20incubation%20period%20for%20COVID,occur%20before%20symptom%20onset.\n",
    "# \"The incubation period for COVID-19, which is the time between exposure to the virus (becoming infected) and\n",
    "# symptom onset, is on average 5-6 days, however can be up to 14 days.\"\n",
    "#\n",
    "# Taking as consideration of time when a person realize that has the virus\n",
    "# and put his/her self in quarentine, we've decided the average between\n",
    "# average and worst case 6 and 14 days.\n",
    "\n",
    "\n",
    "gamma = 1.0 / D\n",
    "# proportion of infected recovering per day\n",
    "\n",
    "n = 6\n",
    "delta = 1.0 / n \n",
    "# incubation period of n days\n",
    "# taking as average of incubation time, we've decided 6 days\n",
    "\n",
    "\n",
    "R_0 = 1.2\n",
    "# total number of people an infected person infects\n",
    "# based on Study of \n",
    "#    - SoCieDat\n",
    "#    - ZapopanLab\n",
    "#    - Data Science Monterrey\n",
    "#    - Datlab Community\n",
    "# Taking the average they give between .8 and 1.5 of range.\n",
    "# Source: https://datoscovid.mx/\n",
    "\n",
    "def beta(t):\n",
    "    return R_0 * gamma\n",
    "# expected amount of people an infected person infects per day\n",
    "\n",
    "casos_zmg = {\n",
    "    \"confirmados\": 1238,\n",
    "    \"sospechosos\": 462,\n",
    "    \"descartados\": 9037,\n",
    "    \"defunciones\": 116\n",
    "}\n",
    "casos_total = sum(casos_zmg.values())\n",
    "alpha = casos_zmg[\"defunciones\"]/casos_total\n",
    "# death rate\n",
    "# Source: https://ssj.jalisco.gob.mx/prensa/noticia/9037\n",
    "# Date: May 25 (latest)\n",
    "\n",
    "days = 11\n",
    "rho = 1/days\n",
    "# days from infection until death\n",
    "# source: South Corea editorial Dong-A Ilbo's research"
   ]
  },
  {
   "cell_type": "code",
   "execution_count": 179,
   "metadata": {},
   "outputs": [],
   "source": [
    "def plotseird(t, S, E, I, R, D=None, L=None, R0=None, Alpha=None, CFR=None):\n",
    "    f, ax = plt.subplots(1,1,figsize=(10,4))\n",
    "    #ax.plot(t, S, 'b', alpha=0.7, linewidth=2, label='Susceptible')\n",
    "    ax.plot(t, E, 'y', alpha=0.7, linewidth=2, label='Exposed')\n",
    "    ax.plot(t, I, 'r', alpha=0.7, linewidth=2, label='Infected')\n",
    "    ax.plot(t, R, 'g', alpha=0.7, linewidth=2, label='Recovered')\n",
    "    if D is not None:\n",
    "        ax.plot(t, D, 'k', alpha=0.7, linewidth=2, label='Dead')\n",
    "        ax.plot(t, S+E+I+R+D, 'c--', alpha=0.7, linewidth=2, label='Total')\n",
    "    else:\n",
    "        ax.plot(t, S+E+I+R, 'c--', alpha=0.7, linewidth=2, label='Total')\n",
    "\n",
    "    ax.set_xlabel('Time (days)')\n",
    "    ax.yaxis.set_tick_params(length=0)\n",
    "    ax.xaxis.set_tick_params(length=0)\n",
    "    ax.grid(b=True, which='major', c='w', lw=2, ls='-')\n",
    "    legend = ax.legend(borderpad=2.0)\n",
    "    legend.get_frame().set_alpha(0.5)\n",
    "    if L:\n",
    "        plt.title(\"Lockdown after {} days\".format(L))\n",
    "        \n",
    "    plt.show();\n",
    "\n",
    "    if R0 is not None or CFR is not None:\n",
    "        f = plt.figure(figsize=(12,4))\n",
    "  \n",
    "    if R0 is not None:\n",
    "        # sp1\n",
    "        ax1 = f.add_subplot(121)\n",
    "        ax1.plot(t, R0, 'b--', alpha=0.7, linewidth=2, label='R_0')\n",
    "        ax1.set_xlabel('Time (days)')\n",
    "        ax1.title.set_text('R_0 over time')\n",
    "        # ax.set_ylabel('Number (1000s)')\n",
    "        # ax.set_ylim(0,1.2)\n",
    "        ax1.yaxis.set_tick_params(length=0)\n",
    "        ax1.xaxis.set_tick_params(length=0)\n",
    "        ax1.grid(b=True, which='major', c='w', lw=2, ls='-')\n",
    "        legend = ax1.legend()\n",
    "        legend.get_frame().set_alpha(0.5)\n",
    "        for spine in ('top', 'right', 'bottom', 'left'):\n",
    "            ax.spines[spine].set_visible(False)\n",
    "\n",
    "    if Alpha is not None:\n",
    "        # sp2\n",
    "        ax2 = f.add_subplot(122)\n",
    "        ax2.plot(t, Alpha, 'r--', alpha=0.7, linewidth=2, label='alpha')\n",
    "        ax2.set_xlabel('Time (days)')\n",
    "        ax2.title.set_text('fatality rate over time')\n",
    "        # ax.set_ylabel('Number (1000s)')\n",
    "        # ax.set_ylim(0,1.2)\n",
    "        ax2.yaxis.set_tick_params(length=0)\n",
    "        ax2.xaxis.set_tick_params(length=0)\n",
    "        ax2.grid(b=True, which='major', c='w', lw=2, ls='-')\n",
    "        legend = ax2.legend()\n",
    "        legend.get_frame().set_alpha(0.5)\n",
    "        for spine in ('top', 'right', 'bottom', 'left'):\n",
    "            print(\"Yeah\")\n",
    "            ax.spines[spine].set_visible(False)   \n",
    "    plt.show();"
   ]
  },
  {
   "cell_type": "markdown",
   "metadata": {},
   "source": [
    "## Lockdown approach, R0 dependent"
   ]
  },
  {
   "cell_type": "code",
   "execution_count": 180,
   "metadata": {},
   "outputs": [],
   "source": [
    "def deriv(y, t, N, beta, gamma, delta, alpha, rho):\n",
    "    S, E, I, R, D = y\n",
    "    dSdt = -beta(t) * S * I / N\n",
    "    dEdt = beta(t) * S * I / N - delta * E\n",
    "    dIdt = delta * E - (1 - alpha) * gamma * I - alpha * rho * I\n",
    "    dRdt = (1 - alpha) * gamma * I\n",
    "    dDdt = alpha * rho * I\n",
    "    return dSdt, dEdt, dIdt, dRdt, dDdt"
   ]
  },
  {
   "cell_type": "code",
   "execution_count": 188,
   "metadata": {},
   "outputs": [
    {
     "name": "stdout",
     "output_type": "stream",
     "text": [
      "6.1183006050812265\n"
     ]
    }
   ],
   "source": [
    "L = 100\n",
    "# Lockdown days\n",
    "\n",
    "def R_0(t):\n",
    "    return 6.0 if t < L else 1.2\n",
    "\n",
    "\n",
    "def beta(t):\n",
    "    return R_0(t) * gamma\n",
    "\n",
    "\n",
    "S0, E0, I0, R0, D0 = N-1, 1, 0, 0, 0  # initial conditions: one exposed\n",
    "t = np.linspace(0, 99, 100) # Grid of time points (in days)\n",
    "y0 = S0, E0, I0, R0, D0 # Initial conditions vector\n",
    "\n",
    "# Integrate the SIR equations over the time grid, t.\n",
    "ret = odeint(deriv, y0, t, args=(N, beta, gamma, delta, alpha, rho))\n",
    "S, E, I, R, D = ret.T\n",
    "from pprint import pprint\n",
    "pprint(D[99])"
   ]
  },
  {
   "cell_type": "code",
   "execution_count": 186,
   "metadata": {},
   "outputs": [
    {
     "data": {
      "image/png": "[encoded data removed]",
      "text/plain": [
       "<Figure size 720x288 with 1 Axes>"
      ]
     },
     "metadata": {
      "needs_background": "light"
     },
     "output_type": "display_data"
    }
   ],
   "source": [
    "plotseird(t, S, E, I, R, D, L)"
   ]
  },
  {
   "cell_type": "code",
   "execution_count": null,
   "metadata": {},
   "outputs": [],
   "source": []
  }
 ],
 "metadata": {
  "kernelspec": {
   "display_name": "Python 3",
   "language": "python",
   "name": "python3"
  },
  "language_info": {
   "codemirror_mode": {
    "name": "ipython",
    "version": 3
   },
   "file_extension": ".py",
   "mimetype": "text/x-python",
   "name": "python",
   "nbconvert_exporter": "python",
   "pygments_lexer": "ipython3",
   "version": "3.7.1"
  }
 },
 "nbformat": 4,
 "nbformat_minor": 2
}
