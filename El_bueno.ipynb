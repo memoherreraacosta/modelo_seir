{
 "cells": [
  {
   "cell_type": "code",
   "execution_count": 35,
   "metadata": {},
   "outputs": [],
   "source": [
    "from scipy.integrate import odeint\n",
    "from random import random\n",
    "\n",
    "import numpy as np\n",
    "import matplotlib.pyplot as plt"
   ]
  },
  {
   "cell_type": "code",
   "execution_count": 36,
   "metadata": {},
   "outputs": [],
   "source": [
    "def plotseird(t, S, E, I, R, D, L=None, R0=None):\n",
    "    fp, axp = plt.subplots(1,1,figsize=(10,4))\n",
    "    #axp.plot(t, S, 'b', linewidth=2, label='Suceptibles')\n",
    "    axp.plot(t, E, 'y', linewidth=2, label='Expuestos')\n",
    "    axp.plot(t, I, 'r', linewidth=2, label='Infectados')\n",
    "    axp.plot(t, R, 'g', linewidth=2, label='Recuperados')\n",
    "    axp.plot(t, D, 'k', linewidth=2, label='Muertos')\n",
    "    axp.set_xlabel('Tiempo (dias)')\n",
    "    legend = axp.legend(borderpad=2.0)\n",
    "    legend.get_frame().set_alpha(0.5)\n",
    "    if L is not None:\n",
    "        plt.title(\"Encierro en el día {} \".format(L))\n",
    "    plt.show()\n",
    "\n",
    "    f, ax = plt.subplots(1,1,figsize=(10,4))\n",
    "    ax.plot(t, E, 'y', linewidth=2, label='Expuestos')\n",
    "    ax.plot(t, I, 'r', linewidth=2, label='Infectados')\n",
    "    ax.plot(t, R, 'g', linewidth=2, label='Recuperados')\n",
    "    ax.plot(t, D, 'k', alpha=0.7, linewidth=2, label='Muertos')\n",
    "    ax.set_xlabel('Tiempo (dias)')\n",
    "    legend = ax.legend(borderpad=2.0)\n",
    "    legend.get_frame().set_alpha(0.5)\n",
    "    plt.show()\n",
    "\n",
    "    \"\"\"\n",
    "    f1 = plt.figure(figsize=(12,4))\n",
    "    f1p, ax0 = plt.subplots(1,1,figsize=(10,4))\n",
    "    ax0.plot(t, S, 'b', linewidth=2, label='Susceptible')\n",
    "    ax.set_xlabel('Tiempo (dias)')\n",
    "    legend = ax0.legend(borderpad=2.0)\n",
    "    legend.get_frame().set_alpha(0.5)\n",
    "    plt.show()\n",
    "    \"\"\"\n",
    "\n",
    "    f2 = plt.figure(figsize=(12,4))\n",
    "    f2p, ax1 = plt.subplots(1,1,figsize=(10,4))\n",
    "    ax1.plot(t, R0, 'b--', alpha=0.7, linewidth=2, label='R0')\n",
    "\n",
    "    ax1.set_xlabel('Tiempo (dias)')\n",
    "    ax1.title.set_text('R0 con el tiempo')\n",
    "    legend = ax1.legend()\n",
    "    legend.get_frame().set_alpha(0.5)\n",
    "    for spine in ('top', 'right', 'bottom', 'left'):\n",
    "        ax.spines[spine].set_visible(False)\n",
    "\n",
    "    plt.show()"
   ]
  },
  {
   "cell_type": "code",
   "execution_count": 37,
   "metadata": {},
   "outputs": [],
   "source": [
    "def deriv(y, t, N, beta, gamma, delta, alpha, rho):\n",
    "    Z = random()\n",
    "    S, E, I, R, D = y\n",
    "    dSdt = (-beta(t) * S * I / N ) * Z\n",
    "    dEdt = (beta(t) * S * I / N - delta * E ) * Z\n",
    "    dIdt = delta * E - (1 - alpha) * gamma * I - alpha * rho * I\n",
    "    dRdt = (1 - alpha) * gamma * I\n",
    "    dDdt = alpha * rho * I\n",
    "    return dSdt, dEdt, dIdt, dRdt, dDdt\n",
    "\n",
    "\n",
    "def data_time(t, data):\n",
    "    print(data[t])\n",
    "    # Pie chart, where the slices will be ordered and plotted counter-clockwise:\n",
    "    labels = ('Expuestos', 'Infectados', 'Recuperados', 'Muertos')\n",
    "    datos = data[t]\n",
    "    sizes = datos[1:]\n",
    "    explode = (0, 0, 0, 0)  # only \"explode\" the 2nd slice (i.e. 'Hogs')\n",
    "    fig1, ax1 = plt.subplots()\n",
    "    ax1.pie(sizes, explode=explode, labels=labels, autopct='%1.1f%%', startangle=90)\n",
    "    ax1.axis('equal')  # Equal aspect ratio ensures that pie is drawn as a circle.\n",
    "\n",
    "    plt.show()"
   ]
  },
  {
   "cell_type": "code",
   "execution_count": 40,
   "metadata": {},
   "outputs": [],
   "source": [
    "N = 6220145\n",
    "# total population ZMG\n",
    "# Source: https://www.jalisco.gob.mx/es/jalisco/guadalajara\n",
    "# In 2015, total population was 4'434,878 people\n",
    "# The growth rate has been creasing by 7%\n",
    "# Following that rate, by 2020 the total population is\n",
    "# ZMG population by 2020: 6'220,145\n",
    "\n",
    "d = 10\n",
    "# number of days an infected person has and can spread the disease\n",
    "# Source: World Health Organization\n",
    "# https://www.who.int/docs/default-source/coronaviruse/situation-reports/20200402-sitrep-73-covid-19.pdf?sfvrsn=5ae25bc7_4#:~:text=The%20incubation%20period%20for%20COVID,occur%20before%20symptom%20onset.\n",
    "# \"The incubation period for COVID-19, which is the time between exposure to the virus (becoming infected) and\n",
    "# symptom onset, is on average 5-6 days, however can be up to 14 days.\"\n",
    "#\n",
    "# Taking as consideration of time when a person realize that has the virus\n",
    "# and put his/her self in quarentine, we've decided the average between\n",
    "# average and worst case 6 and 14 days.\n",
    "\n",
    "\n",
    "gamma = 1.0 / d\n",
    "# proportion of infected recovering per day\n",
    "\n",
    "\n",
    "delta = 1.0 / 6\n",
    "# incubation period of n days\n",
    "# taking as average of incubation time, we've decided 6 days\n",
    "\n",
    "\n",
    "R_0 = 1.2\n",
    "R_0_start, k, x0, R_0_end = 2.5, 0.2, 30, 0.8\n",
    "\n",
    "\n",
    "def R_0(t):\n",
    "    return 5 if t < L else 1.2\n",
    "\n",
    "\n",
    "def logistic_R_0(t):\n",
    "    return (R_0_start-R_0_end) / (1 + np.exp(-k*(-t+x0))) + R_0_end\n",
    "\n",
    "\n",
    "# total number of people an infected person infects\n",
    "# based on Study of \n",
    "#    - SoCieDat\n",
    "#    - ZapopanLab\n",
    "#    - Data Science Monterrey\n",
    "#    - Datlab Community\n",
    "# Taking the average they give between .8 and 1.5 of range.\n",
    "# Source: https://datoscovid.mx/\n",
    "\n",
    "\n",
    "def beta(t):\n",
    "    return logistic_R_0(t) * gamma\n",
    "# expected amount of people an infected person infects per day\n",
    "\n",
    "casos_zmg = {\n",
    "    \"confirmados\": 1238,\n",
    "    \"sospechosos\": 462,\n",
    "    \"descartados\": 9037,\n",
    "    \"defunciones\": 116\n",
    "}\n",
    "casos_total = sum(casos_zmg.values())\n",
    "alpha = casos_zmg[\"defunciones\"]/casos_total\n",
    "alpha = .096733\n",
    "# death rate\n",
    "# Source: https://ssj.jalisco.gob.mx/prensa/noticia/9037\n",
    "# Date: May 25 (latest)\n",
    "\n",
    "days = 11\n",
    "days = 10.5844\n",
    "rho = 1/days\n",
    "# days from infection until death\n",
    "# source: South Corea editorial Dong-A Ilbo's research"
   ]
  },
  {
   "cell_type": "code",
   "execution_count": 41,
   "metadata": {},
   "outputs": [
    {
     "data": {
      "image/png": "[encoded data removed]",
      "text/plain": [
       "<Figure size 720x288 with 1 Axes>"
      ]
     },
     "metadata": {
      "needs_background": "light"
     },
     "output_type": "display_data"
    },
    {
     "data": {
      "image/png": "[encoded data removed]",
      "text/plain": [
       "<Figure size 720x288 with 1 Axes>"
      ]
     },
     "metadata": {
      "needs_background": "light"
     },
     "output_type": "display_data"
    },
    {
     "data": {
      "text/plain": [
       "<Figure size 864x288 with 0 Axes>"
      ]
     },
     "metadata": {},
     "output_type": "display_data"
    },
    {
     "data": {
      "image/png": "[encoded data removed]",
      "text/plain": [
       "<Figure size 720x288 with 1 Axes>"
      ]
     },
     "metadata": {
      "needs_background": "light"
     },
     "output_type": "display_data"
    }
   ],
   "source": [
    "S0, E0, I0, R0, D0 = N-7, 5, 2, 0, 0  # initial conditions\n",
    "L =30\n",
    "\n",
    "t = np.linspace(0, 100, 100) # Grid of time points (in days)\n",
    "y0 = S0, E0, I0, R0, D0 # Initial conditions vector\n",
    "\n",
    "# Integrate the SIR equations over the time grid, t.\n",
    "ret = odeint(deriv, y0, t, args=(N, beta, gamma, delta, alpha, rho))\n",
    "S, E, I, R, D = ret.T\n",
    "R0_over_time = [logistic_R_0(i) for i in range(len(t))]\n",
    "\n",
    "plotseird(t, S, E, I, R, D, R0=R0_over_time)\n",
    "#data_time(30,ret)"
   ]
  },
  {
   "cell_type": "code",
   "execution_count": 42,
   "metadata": {},
   "outputs": [],
   "source": [
    "#t, S, E, I, R, D, R0=R0_over_time\n",
    "from pprint import pprint"
   ]
  },
  {
   "cell_type": "code",
   "execution_count": 43,
   "metadata": {},
   "outputs": [
    {
     "name": "stdout",
     "output_type": "stream",
     "text": [
      "array([  0.        ,   1.01010101,   2.02020202,   3.03030303,\n",
      "         4.04040404,   5.05050505,   6.06060606,   7.07070707,\n",
      "         8.08080808,   9.09090909,  10.1010101 ,  11.11111111,\n",
      "        12.12121212,  13.13131313,  14.14141414,  15.15151515,\n",
      "        16.16161616,  17.17171717,  18.18181818,  19.19191919,\n",
      "        20.2020202 ,  21.21212121,  22.22222222,  23.23232323,\n",
      "        24.24242424,  25.25252525,  26.26262626,  27.27272727,\n",
      "        28.28282828,  29.29292929,  30.3030303 ,  31.31313131,\n",
      "        32.32323232,  33.33333333,  34.34343434,  35.35353535,\n",
      "        36.36363636,  37.37373737,  38.38383838,  39.39393939,\n",
      "        40.4040404 ,  41.41414141,  42.42424242,  43.43434343,\n",
      "        44.44444444,  45.45454545,  46.46464646,  47.47474747,\n",
      "        48.48484848,  49.49494949,  50.50505051,  51.51515152,\n",
      "        52.52525253,  53.53535354,  54.54545455,  55.55555556,\n",
      "        56.56565657,  57.57575758,  58.58585859,  59.5959596 ,\n",
      "        60.60606061,  61.61616162,  62.62626263,  63.63636364,\n",
      "        64.64646465,  65.65656566,  66.66666667,  67.67676768,\n",
      "        68.68686869,  69.6969697 ,  70.70707071,  71.71717172,\n",
      "        72.72727273,  73.73737374,  74.74747475,  75.75757576,\n",
      "        76.76767677,  77.77777778,  78.78787879,  79.7979798 ,\n",
      "        80.80808081,  81.81818182,  82.82828283,  83.83838384,\n",
      "        84.84848485,  85.85858586,  86.86868687,  87.87878788,\n",
      "        88.88888889,  89.8989899 ,  90.90909091,  91.91919192,\n",
      "        92.92929293,  93.93939394,  94.94949495,  95.95959596,\n",
      "        96.96969697,  97.97979798,  98.98989899, 100.        ])\n"
     ]
    }
   ],
   "source": [
    "pprint(t)"
   ]
  },
  {
   "cell_type": "code",
   "execution_count": 44,
   "metadata": {},
   "outputs": [
    {
     "name": "stdout",
     "output_type": "stream",
     "text": [
      "array([ 6.22013800e+006,  6.22013800e+006,  7.08643273e-304,\n",
      "        2.19055195e-314,  2.28283780e-314, -6.02477662e+223,\n",
      "        2.19055203e-314,  2.30492473e-314,  5.72729063e+040,\n",
      "        2.19055211e-314,  2.30544795e-314,  6.40216221e+188,\n",
      "        2.19055219e-314,  2.28283723e-314, -6.16303352e+036,\n",
      "        2.19055227e-314,  2.30420142e-314, -2.07404159e+269,\n",
      "        2.19055235e-314,  2.30557342e-314,  0.00000000e+000,\n",
      "        0.00000000e+000,  0.00000000e+000,  0.00000000e+000,\n",
      "        0.00000000e+000,  0.00000000e+000,  0.00000000e+000,\n",
      "        0.00000000e+000,  6.94819926e-310,  4.94065646e-324,\n",
      "        9.88131292e-324,  5.77068674e-321,  0.00000000e+000,\n",
      "        2.28290280e-314,  0.00000000e+000,  0.00000000e+000,\n",
      "        0.00000000e+000,  2.28290280e-314,  0.00000000e+000,\n",
      "        1.27137913e-319,  0.00000000e+000,  0.00000000e+000,\n",
      "        6.36600002e-314,  0.00000000e+000,  0.00000000e+000,\n",
      "        6.36599876e-314,  0.00000000e+000,  0.00000000e+000,\n",
      "        1.48539833e-313,  0.00000000e+000,  0.00000000e+000,\n",
      "        6.36600774e-314,  0.00000000e+000,  0.00000000e+000,\n",
      "        8.48799594e-314,  0.00000000e+000,  0.00000000e+000,\n",
      "        2.54639623e-313,  0.00000000e+000,  0.00000000e+000,\n",
      "        2.97079538e-313,  0.00000000e+000,  0.00000000e+000,\n",
      "        1.27319874e-313,  0.00000000e+000,  0.00000000e+000,\n",
      "        1.06099906e-313,  0.00000000e+000,  0.00000000e+000,\n",
      "        5.09279104e-313,  4.94065646e-323,  0.00000000e+000,\n",
      "        5.51719033e-313,  0.00000000e+000,  0.00000000e+000,\n",
      "        2.12201236e-314,  0.00000000e+000,  0.00000000e+000,\n",
      "        4.45619244e-313,  0.00000000e+000,  0.00000000e+000,\n",
      "        1.90979748e-313,  0.00000000e+000,  0.00000000e+000,\n",
      "        0.00000000e+000,  0.00000000e+000,  0.00000000e+000,\n",
      "        0.00000000e+000,  0.00000000e+000,  0.00000000e+000,\n",
      "        0.00000000e+000,  0.00000000e+000,  0.00000000e+000,\n",
      "        0.00000000e+000,  0.00000000e+000,  0.00000000e+000,\n",
      "        0.00000000e+000,  0.00000000e+000,  0.00000000e+000,\n",
      "        0.00000000e+000])\n"
     ]
    }
   ],
   "source": [
    "pprint(S)"
   ]
  },
  {
   "cell_type": "code",
   "execution_count": 45,
   "metadata": {},
   "outputs": [
    {
     "name": "stdout",
     "output_type": "stream",
     "text": [
      "array([ 5.00000000e+000,  4.99990366e+000,  1.88274910e-183,\n",
      "        3.67654732e+282,  2.19055198e-314,  2.30420107e-314,\n",
      "        2.74959050e-180,  2.19055206e-314,  2.28283868e-314,\n",
      "       -6.55671444e+204,  2.19055214e-314,  2.30426855e-314,\n",
      "        2.56417436e-275,  2.19055222e-314,  2.28283811e-314,\n",
      "        7.19442838e-191,  2.19055230e-314,  2.30485583e-314,\n",
      "       -7.52525195e-211,  2.19055238e-314,  0.00000000e+000,\n",
      "        0.00000000e+000,  0.00000000e+000,  0.00000000e+000,\n",
      "        0.00000000e+000,  0.00000000e+000,  0.00000000e+000,\n",
      "        0.00000000e+000,  0.00000000e+000,  5.41495948e-321,\n",
      "        1.28457068e-322,  1.48219694e-323,  0.00000000e+000,\n",
      "        0.00000000e+000,  0.00000000e+000,  0.00000000e+000,\n",
      "        2.28290280e-314,  6.94819926e-310,  4.94065646e-324,\n",
      "        0.00000000e+000,  2.12200844e-314,  0.00000000e+000,\n",
      "        0.00000000e+000,  1.06099906e-313,  0.00000000e+000,\n",
      "        0.00000000e+000,  1.06099903e-313,  9.88131292e-324,\n",
      "        0.00000000e+000,  6.36600002e-314,  0.00000000e+000,\n",
      "        0.00000000e+000,  2.12200857e-314,  0.00000000e+000,\n",
      "        0.00000000e+000,  1.06099919e-313,  0.00000000e+000,\n",
      "        0.00000000e+000,  1.90979749e-313,  0.00000000e+000,\n",
      "        0.00000000e+000,  3.39519454e-313,  0.00000000e+000,\n",
      "        0.00000000e+000,  3.81959356e-313,  4.44659081e-323,\n",
      "        0.00000000e+000,  4.45619230e-313,  0.00000000e+000,\n",
      "        0.00000000e+000,  1.69759790e-313,  0.00000000e+000,\n",
      "        0.00000000e+000,  2.12201236e-314,  0.00000000e+000,\n",
      "        0.00000000e+000,  5.94158949e-313,  0.00000000e+000,\n",
      "        0.00000000e+000,  4.88059160e-313,  0.00000000e+000,\n",
      "        0.00000000e+000,  1.26480805e-321,  0.00000000e+000,\n",
      "        0.00000000e+000,  0.00000000e+000,  0.00000000e+000,\n",
      "        0.00000000e+000,  0.00000000e+000,  0.00000000e+000,\n",
      "        0.00000000e+000,  0.00000000e+000,  0.00000000e+000,\n",
      "        0.00000000e+000,  0.00000000e+000,  0.00000000e+000,\n",
      "        0.00000000e+000,  0.00000000e+000,  0.00000000e+000,\n",
      "        0.00000000e+000])\n"
     ]
    }
   ],
   "source": [
    "pprint(E)"
   ]
  },
  {
   "cell_type": "code",
   "execution_count": 46,
   "metadata": {},
   "outputs": [
    {
     "name": "stdout",
     "output_type": "stream",
     "text": [
      "array([ 2.00000000e+000,  2.00031633e+000,              nan,\n",
      "        2.28283761e-314, -6.39406227e-077,  2.19055202e-314,\n",
      "        2.30557389e-314, -5.62767717e+085,  2.19055209e-314,\n",
      "        2.28283751e-314,  2.13434811e-027,  2.19055217e-314,\n",
      "        2.30543018e-314,  4.84697009e-034,  2.19055225e-314,\n",
      "        2.30426947e-314, -2.00872366e-091,  2.19055233e-314,\n",
      "        2.30365606e-314,  4.46136081e-240,  0.00000000e+000,\n",
      "        0.00000000e+000,  0.00000000e+000,  0.00000000e+000,\n",
      "        0.00000000e+000,  0.00000000e+000,  0.00000000e+000,\n",
      "        0.00000000e+000,  1.28457068e-322,  4.44659081e-323,\n",
      "                    nan,  2.28290280e-314,  0.00000000e+000,\n",
      "        0.00000000e+000,  0.00000000e+000,  0.00000000e+000,\n",
      "        2.28290280e-314,              nan,  0.00000000e+000,\n",
      "        0.00000000e+000,  0.00000000e+000,  6.36600002e-314,\n",
      "        0.00000000e+000,  0.00000000e+000,  4.24400297e-314,\n",
      "        0.00000000e+000,  0.00000000e+000,  1.27319861e-313,\n",
      "        1.97626258e-323,  0.00000000e+000,  1.06099916e-313,\n",
      "        0.00000000e+000,  0.00000000e+000,  6.36600015e-314,\n",
      "        0.00000000e+000,  0.00000000e+000,  2.33419665e-313,\n",
      "        0.00000000e+000,  0.00000000e+000,  2.75859581e-313,\n",
      "        0.00000000e+000,  0.00000000e+000,  1.27319876e-313,\n",
      "        0.00000000e+000,  0.00000000e+000,  4.03179334e-313,\n",
      "        0.00000000e+000,  0.00000000e+000,  4.88059146e-313,\n",
      "        0.00000000e+000,  0.00000000e+000,  5.30499075e-313,\n",
      "        0.00000000e+000,  0.00000000e+000,  8.60069476e-320,\n",
      "        0.00000000e+000,  0.00000000e+000,  4.24399286e-313,\n",
      "        0.00000000e+000,  0.00000000e+000,  5.72938991e-313,\n",
      "        0.00000000e+000,  0.00000000e+000,  0.00000000e+000,\n",
      "        0.00000000e+000,  0.00000000e+000,  0.00000000e+000,\n",
      "        0.00000000e+000,  0.00000000e+000,  0.00000000e+000,\n",
      "        0.00000000e+000,  0.00000000e+000,  0.00000000e+000,\n",
      "        0.00000000e+000,  0.00000000e+000,  0.00000000e+000,\n",
      "        0.00000000e+000,  0.00000000e+000,  0.00000000e+000,\n",
      "        0.00000000e+000])\n"
     ]
    }
   ],
   "source": [
    "pprint(I)"
   ]
  },
  {
   "cell_type": "code",
   "execution_count": 47,
   "metadata": {},
   "outputs": [
    {
     "name": "stdout",
     "output_type": "stream",
     "text": [
      "array([0.00000000e+000, 9.00883965e-005, 1.35854650e-219, 2.19055197e-314,\n",
      "       2.30543065e-314, 2.07290543e+058, 2.19055205e-314, 2.30426966e-314,\n",
      "       7.86067878e-285, 2.19055213e-314, 2.30475186e-314, 6.17515481e-188,\n",
      "       2.19055221e-314, 2.30492486e-314, 1.57856084e-163, 2.19055228e-314,\n",
      "       2.28283736e-314, 8.85178650e+011, 2.19055236e-314, 2.30492460e-314,\n",
      "       0.00000000e+000, 0.00000000e+000, 0.00000000e+000, 0.00000000e+000,\n",
      "       0.00000000e+000, 0.00000000e+000, 0.00000000e+000, 0.00000000e+000,\n",
      "                   nan, 2.28290280e-314, 2.30353833e-314, 6.94819926e-310,\n",
      "       4.94065646e-324, 0.00000000e+000, 0.00000000e+000, 0.00000000e+000,\n",
      "       5.77068674e-321, 1.28457068e-322, 6.57107309e-322, 3.03553933e-320,\n",
      "       0.00000000e+000, 0.00000000e+000, 1.06099919e-313, 0.00000000e+000,\n",
      "       0.00000000e+000, 8.48799455e-314, 0.00000000e+000, 0.00000000e+000,\n",
      "       1.69759866e-313, 0.00000000e+000, 0.00000000e+000, 1.90979735e-313,\n",
      "       2.47032823e-323, 0.00000000e+000, 1.06099917e-313, 0.00000000e+000,\n",
      "       0.00000000e+000, 2.12199707e-313, 0.00000000e+000, 0.00000000e+000,\n",
      "       3.18299496e-313, 0.00000000e+000, 0.00000000e+000, 8.48800100e-314,\n",
      "       0.00000000e+000, 0.00000000e+000, 4.24399272e-313, 0.00000000e+000,\n",
      "       0.00000000e+000, 1.48539832e-313, 0.00000000e+000, 0.00000000e+000,\n",
      "       1.90979749e-313, 0.00000000e+000, 0.00000000e+000, 5.72938977e-313,\n",
      "       5.92878775e-323, 0.00000000e+000, 4.66839202e-313, 0.00000000e+000,\n",
      "       0.00000000e+000, 1.48539884e-313, 0.00000000e+000, 0.00000000e+000,\n",
      "       0.00000000e+000, 0.00000000e+000, 0.00000000e+000, 0.00000000e+000,\n",
      "       0.00000000e+000, 0.00000000e+000, 0.00000000e+000, 0.00000000e+000,\n",
      "       0.00000000e+000, 0.00000000e+000, 0.00000000e+000, 0.00000000e+000,\n",
      "       0.00000000e+000, 0.00000000e+000, 0.00000000e+000, 0.00000000e+000])\n"
     ]
    }
   ],
   "source": [
    "pprint(R)"
   ]
  },
  {
   "cell_type": "code",
   "execution_count": 48,
   "metadata": {},
   "outputs": [
    {
     "name": "stdout",
     "output_type": "stream",
     "text": [
      "array([ 0.00000000e+000,  9.11509345e-006,  2.30420275e-314,\n",
      "       -6.56442000e-001,  2.19055200e-314,  2.28283774e-314,\n",
      "        1.03755536e-103,  2.19055208e-314,  2.28283872e-314,\n",
      "        8.24950432e+066,  2.19055216e-314,  2.30492413e-314,\n",
      "        5.99687104e+214,  2.19055224e-314,  2.30557364e-314,\n",
      "       -1.00829344e-252,  2.19055232e-314,  2.28283726e-314,\n",
      "       -6.07050490e+115,  2.19055240e-314,  0.00000000e+000,\n",
      "        0.00000000e+000,  0.00000000e+000,  0.00000000e+000,\n",
      "        0.00000000e+000,  0.00000000e+000,  0.00000000e+000,\n",
      "        2.28290280e-314,  2.28290280e-314,  6.94819926e-310,\n",
      "        2.12199579e-314,  0.00000000e+000,  0.00000000e+000,\n",
      "        0.00000000e+000,  0.00000000e+000,  0.00000000e+000,\n",
      "        9.88131292e-324,              nan,  0.00000000e+000,\n",
      "        0.00000000e+000,  4.24400423e-314,  0.00000000e+000,\n",
      "        0.00000000e+000,  2.12200717e-314,  0.00000000e+000,\n",
      "        0.00000000e+000,  8.48799581e-314,  0.00000000e+000,\n",
      "        0.00000000e+000,  1.06099916e-313,  0.00000000e+000,\n",
      "        0.00000000e+000,  4.24400436e-314,  0.00000000e+000,\n",
      "        0.00000000e+000,  2.12199693e-313,  3.95252517e-323,\n",
      "        0.00000000e+000,  1.27745613e-319,  0.00000000e+000,\n",
      "        0.00000000e+000,  3.60739412e-313,  0.00000000e+000,\n",
      "        0.00000000e+000,  3.81959370e-313,  0.00000000e+000,\n",
      "        0.00000000e+000,  4.66839188e-313,  0.00000000e+000,\n",
      "        0.00000000e+000,  1.66954663e-319,  0.00000000e+000,\n",
      "        0.00000000e+000,  2.12201236e-314,  0.00000000e+000,\n",
      "        0.00000000e+000,  1.90979749e-313,  0.00000000e+000,\n",
      "        0.00000000e+000,  5.09279118e-313,  0.00000000e+000,\n",
      "        0.00000000e+000,  0.00000000e+000,  0.00000000e+000,\n",
      "        0.00000000e+000,  0.00000000e+000,  0.00000000e+000,\n",
      "        0.00000000e+000,  0.00000000e+000,  0.00000000e+000,\n",
      "        0.00000000e+000,  0.00000000e+000,  0.00000000e+000,\n",
      "        0.00000000e+000,  0.00000000e+000,  0.00000000e+000,\n",
      "        0.00000000e+000,  0.00000000e+000,  0.00000000e+000,\n",
      "        0.00000000e+000])\n"
     ]
    }
   ],
   "source": [
    "pprint(D)"
   ]
  },
  {
   "cell_type": "code",
   "execution_count": 49,
   "metadata": {},
   "outputs": [
    {
     "name": "stdout",
     "output_type": "stream",
     "text": [
      "[2.4957965406337212,\n",
      " 2.494868692247996,\n",
      " 2.4937367921709592,\n",
      " 2.4923563356264,\n",
      " 2.4906732918709342,\n",
      " 2.488622153428716,\n",
      " 2.4861236290396285,\n",
      " 2.4830819368262627,\n",
      " 2.479381660526734,\n",
      " 2.474884146121436,\n",
      " 2.4694234430644446,\n",
      " 2.462801839408578,\n",
      " 2.454785110919328,\n",
      " 2.445097710012634,\n",
      " 2.4334182712455004,\n",
      " 2.4193760155981368,\n",
      " 2.402548900971923,\n",
      " 2.3824646854163105,\n",
      " 2.358606415960332,\n",
      " 2.330424168496535,\n",
      " 2.2973550325624,\n",
      " 2.258853189669171,\n",
      " 2.2144312547276717,\n",
      " 2.163712610549589,\n",
      " 2.10649213194833,\n",
      " 2.042799583671008,\n",
      " 1.972956617916941,\n",
      " 1.8976157205838522,\n",
      " 1.8177690221911684,\n",
      " 1.7347177954312125,\n",
      " 1.65,\n",
      " 1.5652822045687875,\n",
      " 1.4822309778088316,\n",
      " 1.4023842794161476,\n",
      " 1.3270433820830587,\n",
      " 1.2572004163289918,\n",
      " 1.19350786805167,\n",
      " 1.136287389450411,\n",
      " 1.0855687452723284,\n",
      " 1.0411468103308292,\n",
      " 1.0026449674376,\n",
      " 0.9695758315034648,\n",
      " 0.941393584039668,\n",
      " 0.9175353145836896,\n",
      " 0.8974510990280768,\n",
      " 0.8806239844018635,\n",
      " 0.8665817287544995,\n",
      " 0.8549022899873658,\n",
      " 0.845214889080672,\n",
      " 0.8371981605914218,\n",
      " 0.8305765569355557,\n",
      " 0.8251158538785642,\n",
      " 0.8206183394732662,\n",
      " 0.8169180631737374,\n",
      " 0.8138763709603719,\n",
      " 0.8113778465712843,\n",
      " 0.8093267081290657,\n",
      " 0.8076436643736,\n",
      " 0.8062632078290413,\n",
      " 0.8051313077520044,\n",
      " 0.8042034593662791,\n",
      " 0.8034430446613848,\n",
      " 0.8028199618362966,\n",
      " 0.8023094839157293,\n",
      " 0.8018913112558625,\n",
      " 0.8015487870304812,\n",
      " 0.8012682490175225,\n",
      " 0.8010384949110385,\n",
      " 0.8008503418820353,\n",
      " 0.8006962641804763,\n",
      " 0.800570095221793,\n",
      " 0.8004667828653723,\n",
      " 0.8003821885093967,\n",
      " 0.8003129222384379,\n",
      " 0.8002562076087016,\n",
      " 0.8002097707791767,\n",
      " 0.8001717496296432,\n",
      " 0.8001406192788478,\n",
      " 0.8001151310543536,\n",
      " 0.8000942624920288,\n",
      " 0.8000771763767942,\n",
      " 0.800063187193075,\n",
      " 0.800051733646731,\n",
      " 0.8000423561611971,\n",
      " 0.800034678448376,\n",
      " 0.8000283924171419,\n",
      " 0.8000232458154438,\n",
      " 0.8000190321111588,\n",
      " 0.8000155822063238,\n",
      " 0.8000127576527152,\n",
      " 0.8000104450968238,\n",
      " 0.800008551731513,\n",
      " 0.8000070015719662,\n",
      " 0.8000057324065684,\n",
      " 0.8000046933004153,\n",
      " 0.8000038425513065,\n",
      " 0.8000031460162139,\n",
      " 0.800002575741088,\n",
      " 0.80000210883902,\n",
      " 0.8000017265717472]\n"
     ]
    }
   ],
   "source": [
    "pprint(R0_over_time)"
   ]
  },
  {
   "cell_type": "code",
   "execution_count": null,
   "metadata": {},
   "outputs": [],
   "source": [
    "\"\"\"\n",
    "muertes = sum([ death for death in D ])\n",
    "infectados = sum([ inf for inf in I ])\n",
    "print(muertes)\n",
    "print(infectados)\n",
    "\n",
    "D1 = list(reversed(D))\n",
    "Muertes = sum([ D1[idx] - D1[idx + 1] for idx in range(len(D) -1) ])\n",
    "print(Muertes)\n",
    "\"\"\""
   ]
  }
 ],
 "metadata": {
  "kernelspec": {
   "display_name": "Python 3",
   "language": "python",
   "name": "python3"
  },
  "language_info": {
   "codemirror_mode": {
    "name": "ipython",
    "version": 3
   },
   "file_extension": ".py",
   "mimetype": "text/x-python",
   "name": "python",
   "nbconvert_exporter": "python",
   "pygments_lexer": "ipython3",
   "version": "3.7.1"
  }
 },
 "nbformat": 4,
 "nbformat_minor": 2
}
